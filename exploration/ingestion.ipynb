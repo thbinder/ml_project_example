{
 "cells": [
  {
   "cell_type": "markdown",
   "metadata": {},
   "source": [
    "## Retrieving Data\n",
    "\n",
    "Download from Kaggle & Optional Upload to Minio Local deployment"
   ]
  },
  {
   "cell_type": "code",
   "execution_count": null,
   "metadata": {},
   "outputs": [],
   "source": [
    "# Start by downloading the necessary data. You will need to have setup your Kaggle API access\n",
    "# https://www.kaggle.com/docs/api#interacting-with-datasets\n",
    "# Alternatively, download the data through the web ui and put it into the root folder into ./data\n",
    "import sys\n",
    "sys.path.append(\"/home/thomas/workspace/mlops_sea_animal_classification/\")\n",
    "!pdm run kaggle datasets download -d vencerlanz09/sea-animals-image-dataste\n",
    "!mkdir ../data && unzip sea-animals-image-dataste -d ../data && rm -f sea-animals-image-dataste.zip"
   ]
  },
  {
   "cell_type": "code",
   "execution_count": null,
   "metadata": {},
   "outputs": [],
   "source": [
    "# Use this if you want to store data on your minio cluster\n",
    "import glob\n",
    "import os\n",
    "from minio import Minio\n",
    "\n",
    "client = Minio(\"localhost:9000\", \"minio\", \"minio123\", secure=False)\n",
    "\n",
    "def upload_local_directory_to_minio(local_path, bucket_name, minio_path):\n",
    "    \n",
    "    assert os.path.isdir(local_path)\n",
    "\n",
    "    for local_file in glob.glob(local_path + '/**'):\n",
    "        local_file = local_file.replace(os.sep, \"/\") # Replace \\ with / on Windows\n",
    "        if not os.path.isfile(local_file):\n",
    "            upload_local_directory_to_minio(\n",
    "                local_file, bucket_name, minio_path + \"/\" + os.path.basename(local_file))\n",
    "        else:\n",
    "            remote_path = os.path.join(\n",
    "                minio_path, local_file[1 + len(local_path):])\n",
    "            remote_path = remote_path.replace(\n",
    "                os.sep, \"/\")  # Replace \\ with / on Windows\n",
    "            client.fput_object(bucket_name, remote_path, local_file)"
   ]
  },
  {
   "cell_type": "code",
   "execution_count": null,
   "metadata": {},
   "outputs": [],
   "source": [
    "local_path = \"../data\"\n",
    "bucket_name = \"sea-animals\"\n",
    "minio_path = \"data\"\n",
    "upload_local_directory_to_minio(local_path, bucket_name, minio_path)"
   ]
  },
  {
   "cell_type": "markdown",
   "metadata": {},
   "source": [
    "## Download Data from Minio"
   ]
  },
  {
   "cell_type": "code",
   "execution_count": null,
   "metadata": {},
   "outputs": [],
   "source": [
    "bucket_name = \"sea-animals\"\n",
    "\n",
    "for item in client.list_objects(bucket_name,recursive=True):\n",
    "    client.fget_object(bucket_name, item.object_name, item.object_name)"
   ]
  }
 ],
 "metadata": {
  "kernelspec": {
   "display_name": "Python 3.8.10 ('.venv': venv)",
   "language": "python",
   "name": "python3"
  },
  "language_info": {
   "codemirror_mode": {
    "name": "ipython",
    "version": 3
   },
   "file_extension": ".py",
   "mimetype": "text/x-python",
   "name": "python",
   "nbconvert_exporter": "python",
   "pygments_lexer": "ipython3",
   "version": "3.8.10"
  },
  "orig_nbformat": 4,
  "vscode": {
   "interpreter": {
    "hash": "85920bf1edc4e8248217f9d6a70bb8f9eac81c654878ae3e0a30cf38b5615819"
   }
  }
 },
 "nbformat": 4,
 "nbformat_minor": 2
}
