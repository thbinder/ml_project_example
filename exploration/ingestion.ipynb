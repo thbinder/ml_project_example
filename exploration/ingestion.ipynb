{
 "cells": [
  {
   "attachments": {},
   "cell_type": "markdown",
   "metadata": {},
   "source": [
    "# Retrieving Data\n",
    "\n",
    "## Download from Kaggle"
   ]
  },
  {
   "cell_type": "code",
   "execution_count": null,
   "metadata": {},
   "outputs": [],
   "source": [
    "# Start by downloading the necessary data. You will need to have setup your Kaggle API access\n",
    "# https://www.kaggle.com/docs/api#interacting-with-datasets\n",
    "# Alternatively, download the data through the web ui and put it into the root folder into ./data\n",
    "!kaggle datasets download -d vencerlanz09/sea-animals-image-dataste\n",
    "!mkdir ../data && unzip sea-animals-image-dataste -d ../data && rm -f sea-animals-image-dataste.zip"
   ]
  },
  {
   "attachments": {},
   "cell_type": "markdown",
   "metadata": {},
   "source": [
    "## Download Data from GCP"
   ]
  },
  {
   "cell_type": "code",
   "execution_count": 7,
   "metadata": {},
   "outputs": [],
   "source": [
    "import os\n",
    "import sys\n",
    "from google.cloud import storage\n",
    "sys.path.append(\"..\")\n",
    "from src.domain.class_mapping import class_mapping\n",
    "\n",
    "bucket_name = 'mlops-sea-animal-data'\n",
    "dl_dir = './test_download/'\n",
    "storage_client = storage.Client(project='mlops-sea-animal')\n",
    "bucket = storage_client.get_bucket(bucket_name)\n",
    "\n",
    "# Create folder for data if does not exist\n",
    "if not os.path.exists(dl_dir):\n",
    "        os.makedirs(dl_dir)\n",
    "\n",
    "for key in class_mapping:\n",
    "    \n",
    "    if not os.path.exists(dl_dir+'/'+class_mapping[key]):\n",
    "        os.makedirs(dl_dir+'/'+class_mapping[key])\n",
    "\n",
    "    blobs = bucket.list_blobs(prefix=class_mapping[key])  # Get list of files\n",
    "    for blob in blobs:\n",
    "        filename = blob.name.replace('/', '_')[len(class_mapping[key])+1:]\n",
    "        blob.download_to_filename(dl_dir +'/'+class_mapping[key] + '/' + filename)  # Download "
   ]
  }
 ],
 "metadata": {
  "kernelspec": {
   "display_name": "Python 3.8.10 ('.venv': venv)",
   "language": "python",
   "name": "python3"
  },
  "language_info": {
   "codemirror_mode": {
    "name": "ipython",
    "version": 3
   },
   "file_extension": ".py",
   "mimetype": "text/x-python",
   "name": "python",
   "nbconvert_exporter": "python",
   "pygments_lexer": "ipython3",
   "version": "3.8.10"
  },
  "orig_nbformat": 4,
  "vscode": {
   "interpreter": {
    "hash": "85920bf1edc4e8248217f9d6a70bb8f9eac81c654878ae3e0a30cf38b5615819"
   }
  }
 },
 "nbformat": 4,
 "nbformat_minor": 2
}
