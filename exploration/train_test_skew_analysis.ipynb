{
 "cells": [
  {
   "cell_type": "code",
   "execution_count": null,
   "metadata": {},
   "outputs": [],
   "source": [
    "from zenml.integrations.evidently.visualizers import EvidentlyVisualizer\n",
    "from zenml.repository import Repository\n",
    "\n",
    "repo = Repository()\n",
    "last_run = repo.get_pipeline(\"training_kubeflow_pipeline\").runs[-1]\n",
    "\n",
    "skew_detection_step = last_run.get_step(step=\"skew_detector\")\n",
    "evidently_outputs = skew_detection_step\n",
    "\n",
    "EvidentlyVisualizer().visualize(evidently_outputs)"
   ]
  }
 ],
 "metadata": {
  "kernelspec": {
   "display_name": "Python 3.8.10 ('.venv': venv)",
   "language": "python",
   "name": "python3"
  },
  "language_info": {
   "codemirror_mode": {
    "name": "ipython",
    "version": 3
   },
   "file_extension": ".py",
   "mimetype": "text/x-python",
   "name": "python",
   "nbconvert_exporter": "python",
   "pygments_lexer": "ipython3",
   "version": "3.8.10"
  },
  "orig_nbformat": 4,
  "vscode": {
   "interpreter": {
    "hash": "85920bf1edc4e8248217f9d6a70bb8f9eac81c654878ae3e0a30cf38b5615819"
   }
  }
 },
 "nbformat": 4,
 "nbformat_minor": 2
}
