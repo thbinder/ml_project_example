{
 "cells": [
  {
   "cell_type": "code",
   "execution_count": 3,
   "metadata": {},
   "outputs": [
    {
     "name": "stdout",
     "output_type": "stream",
     "text": [
      "env: MLFLOW_TRACKING_URI=http://localhost:5000\n",
      "env: MLFLOW_S3_ENDPOINT_URL=http://localhost:9000\n",
      "env: AWS_ACCESS_KEY_ID=minio\n",
      "env: AWS_SECRET_ACCESS_KEY=minio123\n"
     ]
    }
   ],
   "source": [
    "# Ensure you deployed mlflow first\n",
    "%env MLFLOW_TRACKING_URI=http://localhost:5000\n",
    "%env MLFLOW_S3_ENDPOINT_URL=http://localhost:9000\n",
    "%env AWS_ACCESS_KEY_ID=minio\n",
    "%env AWS_SECRET_ACCESS_KEY=minio123\n",
    "\n",
    "# System libraries\n",
    "import sys\n",
    "import time\n",
    "import os.path\n",
    "from pathlib import Path\n",
    "\n",
    "# Import DS librairies\n",
    "import numpy as np\n",
    "import pandas as pd\n",
    "import matplotlib.pyplot as plt\n",
    "import matplotlib.cm as cm\n",
    "from sklearn.model_selection import train_test_split\n",
    "from sklearn.metrics import classification_report\n",
    "import mlflow\n",
    "\n",
    "# Tensorflow Libraries\n",
    "import tensorflow as tf\n",
    "from tensorflow import keras\n",
    "from tensorflow.keras import layers,models\n",
    "from keras_preprocessing.image import ImageDataGenerator\n",
    "from keras.layers import Dense, Dropout\n",
    "from tensorflow.keras.callbacks import Callback, EarlyStopping,ModelCheckpoint\n",
    "from tensorflow.keras.optimizers import Adam\n",
    "from tensorflow.keras.applications import MobileNetV2\n",
    "from tensorflow.keras import Model\n",
    "from tensorflow.keras.layers.experimental import preprocessing\n",
    "from tensorflow.python.saved_model import signature_constants\n",
    "\n",
    "import sys\n",
    "from src.domain.model import build_model\n",
    "from src.domain.data_preparation import generate_data_for_training"
   ]
  },
  {
   "cell_type": "code",
   "execution_count": null,
   "metadata": {},
   "outputs": [],
   "source": [
    "# Set path to data\n",
    "data_path = \"../data\"\n",
    "# hyperparams\n",
    "denses = [256,256,19]\n",
    "dropout = [0.2, 0.2]\n",
    "adam_param = 0.00001\n",
    "nb_epochs = 2\n",
    "batch_size = 8\n",
    "input_shape = (224, 224, 3)\n",
    "\n",
    "# Data Generators\n",
    "train_images, val_images, test_images, test_df = generate_data_for_training(data_path, batch_size)\n",
    " # Model definition\n",
    "model = build_model(input_shape, denses, dropout)\n",
    "\n",
    "# You should ensure you have a local mlflow server running\n",
    "mlflow.set_tracking_uri(\"http://localhost:5000\")\n",
    "mlflow.set_experiment(\"sea_animals_classification\")\n",
    "\n",
    "with mlflow.start_run(run_name=\"Exploration\"):\n",
    "\n",
    "    # Logging hyper parameters to mlflow\n",
    "    mlflow.log_param(\"adam\", adam_param)\n",
    "    mlflow.log_param(\"dropout\", dropout)\n",
    "    mlflow.log_param(\"nb_dense\", denses)\n",
    "    mlflow.log_param(\"batch_size\", batch_size)\n",
    "    mlflow.log_param(\"nb_epochs\", nb_epochs)\n",
    "    mlflow.log_param(\"input_shape\", input_shape)\n",
    "    print(\"Training parameters logged to tracking server.\")\n",
    "\n",
    "    model.compile(\n",
    "        optimizer=Adam(adam_param),\n",
    "        loss='categorical_crossentropy',\n",
    "        metrics=['accuracy']\n",
    "    )\n",
    "\n",
    "    start_training_time = time.time()\n",
    "    history = model.fit(\n",
    "        train_images,\n",
    "        steps_per_epoch=len(train_images),\n",
    "        validation_data=val_images,\n",
    "        validation_steps=len(val_images),\n",
    "        epochs=nb_epochs\n",
    "    )\n",
    "    elapsed_training_time = time.time() - start_training_time\n",
    "\n",
    "    # Evaluate model\n",
    "    results = model.evaluate(test_images, verbose=1)\n",
    "\n",
    "    # Log final metrics\n",
    "    mlflow.log_metric(\"Training time\", elapsed_training_time)\n",
    "    mlflow.log_metric(\"Training accuracy\", history.history['accuracy'][-1]*100)\n",
    "    mlflow.log_metric(\"Validation accuracy\", history.history['val_accuracy'][-1]*100)\n",
    "    mlflow.log_metric(\"Test accuracy\", results[1]*100)\n",
    "    print(\"Metrics logged to tracking server.\")\n",
    "\n",
    "    tf.keras.models.save_model(model, \"./model\")\n",
    "    print(\"Model saved locally\")\n",
    "\n",
    "    # Log training script for audit purposes\n",
    "    try:\n",
    "        mlflow.log_artifact(\"./training.ipynb\", artifact_path=\"training\")\n",
    "        mlflow.log_artifact(\"../src/domain/model.py\", artifact_path=\"training\")\n",
    "        mlflow.log_artifact(\"../src/domain/data_preparation.py\", artifact_path=\"training\")\n",
    "        mlflow.log_artifact(\"../pyproject.toml\", artifact_path=\"training\")\n",
    "        print(\"Necessary training scripts logged as artifacts.\")\n",
    "    except Exception as e:\n",
    "        print(\"Impossible to log artifacts: {}\".format(e))\n",
    "\n",
    "    # Log model for reuse & comparison\n",
    "    try:\n",
    "        tag=[tf.compat.v1.saved_model.tag_constants.SERVING]\n",
    "        key=signature_constants.DEFAULT_SERVING_SIGNATURE_DEF_KEY\n",
    "        mlflow.tensorflow.log_model(tf_saved_model_dir=\"./model\",\n",
    "                                tf_meta_graph_tags=tag,\n",
    "                                tf_signature_def_key=key,\n",
    "                                artifact_path=\"model\",\n",
    "                                registered_model_name=\"Sea_Classifier_MobileNetV2\")\n",
    "        print(\"Model sent to registry.\")\n",
    "    except Exception as e:\n",
    "        print(\"Impossible to log model to registry: {}\".format(e))"
   ]
  },
  {
   "cell_type": "code",
   "execution_count": null,
   "metadata": {},
   "outputs": [],
   "source": [
    "from helper_functions import make_confusion_matrix, plot_loss_curves\n",
    "\n",
    "# Plot loss curves\n",
    "plot_loss_curves(history)"
   ]
  },
  {
   "cell_type": "code",
   "execution_count": null,
   "metadata": {},
   "outputs": [],
   "source": [
    "# Predict the label of the test_images\n",
    "pred = model.predict(test_images)\n",
    "pred = np.argmax(pred,axis=1)\n",
    "\n",
    "# Map the label\n",
    "labels = (train_images.class_indices)\n",
    "labels = dict((v,k) for k,v in labels.items())\n",
    "pred = [labels[k] for k in pred]\n",
    "\n",
    "y_test = list(test_df.Label)\n",
    "print(classification_report(y_test, pred))"
   ]
  },
  {
   "cell_type": "code",
   "execution_count": null,
   "metadata": {},
   "outputs": [],
   "source": [
    "# Output confusion matrix\n",
    "make_confusion_matrix(y_test, pred, list(labels.values()))"
   ]
  },
  {
   "cell_type": "code",
   "execution_count": null,
   "metadata": {},
   "outputs": [],
   "source": [
    "# Display 25 random pictures from the dataset with their labels\n",
    "random_index = np.random.randint(0, len(test_df) - 1, 15)\n",
    "fig, axes = plt.subplots(nrows=3, ncols=5, figsize=(25, 15),\n",
    "                        subplot_kw={'xticks': [], 'yticks': []})\n",
    "\n",
    "for i, ax in enumerate(axes.flat):\n",
    "    ax.imshow(plt.imread(test_df.Filepath.iloc[random_index[i]]))\n",
    "    if test_df.Label.iloc[random_index[i]] == pred[random_index[i]]:\n",
    "      color = \"green\"\n",
    "    else:\n",
    "      color = \"red\"\n",
    "    ax.set_title(f\"True: {test_df.Label.iloc[random_index[i]]}\\nPredicted: {pred[random_index[i]]}\", color=color)\n",
    "plt.show()\n",
    "plt.tight_layout()"
   ]
  }
 ],
 "metadata": {
  "kernelspec": {
   "display_name": "Python 3.8.10 ('.venv': venv)",
   "language": "python",
   "name": "python3"
  },
  "language_info": {
   "codemirror_mode": {
    "name": "ipython",
    "version": 3
   },
   "file_extension": ".py",
   "mimetype": "text/x-python",
   "name": "python",
   "nbconvert_exporter": "python",
   "pygments_lexer": "ipython3",
   "version": "3.8.10"
  },
  "orig_nbformat": 4,
  "vscode": {
   "interpreter": {
    "hash": "85920bf1edc4e8248217f9d6a70bb8f9eac81c654878ae3e0a30cf38b5615819"
   }
  }
 },
 "nbformat": 4,
 "nbformat_minor": 2
}
